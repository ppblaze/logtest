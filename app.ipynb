{
 "cells": [
  {
   "cell_type": "code",
   "execution_count": 1,
   "metadata": {},
   "outputs": [],
   "source": [
    "from __future__ import print_function\n",
    "import pandas as pd\n",
    "import numpy as np\n",
    "import matplotlib.pyplot as plt\n",
    "%matplotlib inline\n",
    "import boto3\n",
    "import s3fs\n",
    "from ipywidgets import interact, interactive, fixed, interact_manual,Output\n",
    "import ipywidgets as ipw\n",
    "from IPython.display import clear_output,HTML\n"
   ]
  },
  {
   "cell_type": "code",
   "execution_count": 2,
   "metadata": {
    "scrolled": true
   },
   "outputs": [],
   "source": [
    "df = []\n",
    "odf = []\n",
    "fdf = []\n",
    "df2 = []\n",
    "tf =[]\n",
    "errordf = []\n",
    "interval = int\n",
    "out = Output()\n",
    "pd.options.mode.chained_assignment = None\n",
    "\n",
    "def logSearch():#Read log and save as df and odf.\n",
    "    global df,odf\n",
    "    out.clear_output()\n",
    "    df=[]\n",
    "    odf=[]\n",
    "    if len(cname)>0 and len(player)>0:\n",
    "        s3 = boto3.resource('s3')\n",
    "        bucket = s3.Bucket('s3logbucket-testing')\n",
    "        for obj in bucket.objects.filter(Prefix='%s/%s/log_%s'%(cname,player,logdate)):\n",
    "            data = pd.read_json('s3://s3logbucket-testing/'+obj.key)\n",
    "            df.append(data)\n",
    "        if len(df) == 0:\n",
    "            with out:\n",
    "                print('Invalid input, please try again')                \n",
    "        else:\n",
    "            odf = errordf = df\n",
    "            timeSplit()\n",
    "    else:\n",
    "        with out:\n",
    "            print('company name and player name are required')\n",
    "\n",
    "def intOnly(message,defaultVal):#Input for time interval return input\n",
    "    Input = input(message)\n",
    "    if Input == '':\n",
    "        Input = int(defaultVal)\n",
    "    else:\n",
    "        try:\n",
    "            Input = int(Input)\n",
    "        except ValueError:\n",
    "            print('Input must be integer!')\n",
    "            intOnly(message,defaultVal)            \n",
    "    if Input < 0:\n",
    "        print('Input cannot be negative!')\n",
    "        intOnly(message,defaultVal)\n",
    "    return int(Input)\n",
    "\n",
    "def logFilter():#filter columns then row save filtered dataframe in df*\n",
    "    global df,odf,fdf,col,logfil\n",
    "    out.clear_output()\n",
    "    temp = 0\n",
    "    fdf.clear()\n",
    "    if len(col) > 0:\n",
    "        if len(logfil) > 0:\n",
    "            if col == 'className':\n",
    "                for x in range(len(odf)):\n",
    "                    fdf.append(odf[x][odf[x].className.str.contains(logfil)])\n",
    "                    fdf[x].index = np.arange(1, len(fdf[x]) + 1)\n",
    "                    temp += len(fdf[x])\n",
    "            elif col == 'description':\n",
    "                for x in range(len(odf)):\n",
    "                    fdf.append(odf[x][odf[x].description.str.contains(logfil)])\n",
    "                    fdf[x].index = np.arange(1, len(fdf[x]) + 1)\n",
    "                    temp += len(fdf[x])\n",
    "            elif col == 'functionName':\n",
    "                for x in range(len(odf)):\n",
    "                    fdf.append(odf[x][odf[x].functionName.str.contains(logfil)])\n",
    "                    fdf[x].index = np.arange(1, len(fdf[x]) + 1)\n",
    "                    temp += len(fdf[x])\n",
    "            elif col == 'logDateTime':\n",
    "                for x in range(len(odf)):\n",
    "                    fdf.append(odf[x][odf[x].logDateTime.str.contains(logfil)])\n",
    "                    fdf[x].index = np.arange(1, len(fdf[x]) + 1)\n",
    "                    temp += len(fdf[x])\n",
    "            elif col == 'logType':\n",
    "                for x in range(len(odf)):\n",
    "                    fdf.append(odf[x][odf[x].logType.str.contains(logfil)])\n",
    "                    fdf[x].index = np.arange(1, len(fdf[x]) + 1)\n",
    "                    temp += len(fdf[x])\n",
    "            if temp == 0:\n",
    "                with out:\n",
    "                    print('No result, please try again!')\n",
    "                    temp = 0\n",
    "            else:\n",
    "                df = fdf\n",
    "                with out:                    \n",
    "                    print('Filter succesfully')\n",
    "        else:\n",
    "            with out:\n",
    "                print('Please enter row filter!')\n",
    "\n",
    "def timeSplit():\n",
    "    global df\n",
    "    for x in range(len(df)):\n",
    "        df[x]['logDateTime'] = df[x]['logDateTime'].str.split(\"_\")\n",
    "        df[x].index = np.arange(1, len(df[x]) + 1)\n",
    "        #Filter onStatusChanged\n",
    "\n",
    "def disMerge():\n",
    "    global df\n",
    "    for x in range(len(errordf)):\n",
    "        df[x].loc[df[x]['description'].str.contains(\"Reconnecting\"),'description'] = 'Reconnecting'\n",
    "        df[x].loc[df[x]['description'].str.contains(\"Connecting\"),'description'] = 'Reconnecting'\n",
    "        df[x].loc[df[x]['description'].str.contains(\"ConnectionLost\"),'description'] = 'Reconnecting'\n",
    "        df[x].loc[df[x]['description'].str.contains(\"Keep\"),'description'] = 'Connected'\n",
    "\n",
    "def plotError():\n",
    "    global df,interval,tf\n",
    "    tf = []\n",
    "    minframe = []\n",
    "    hrframe = []\n",
    "    inc,zero = 0,0\n",
    "    seq = int(1440/interval)  \n",
    "    stop = interval - 1\n",
    "    for x in range(len(df)):\n",
    "        tf.append([])\n",
    "        for y in range(seq):\n",
    "            tf[x].append(hrframe)\n",
    "            for z in range(1,len(df[x])+1):\n",
    "                if len(tf[x][y]) == 0:\n",
    "                    if y == 0:\n",
    "                        if (0 <= int(df[x]['logDateTime'][z][5]) <= stop) and (int(df[x]['logDateTime'][z][4]) == 0):\n",
    "                            minframe.append(df[x]['logDateTime'][z])\n",
    "                            tf[x][y].append(minframe)\n",
    "                            minframe = []\n",
    "                    else:\n",
    "                        start = divmod(y*interval,60)[1]\n",
    "                        if (start <= int(df[x]['logDateTime'][z][5]) <= start+stop) and (int(df[x]['logDateTime'][z][4]) == int(y*(24/seq))):\n",
    "                            minframe.append(df[x]['logDateTime'][z])\n",
    "                            inc+=interval                        \n",
    "                            tf[x][y].append(minframe)\n",
    "                            minframe = []\n",
    "                else:\n",
    "                    break\n",
    "            hrframe = []\n",
    "            \n"
   ]
  },
  {
   "cell_type": "code",
   "execution_count": 27,
   "metadata": {},
   "outputs": [],
   "source": [
    "def getLogVal(b):\n",
    "    global cname,cnamebox,player,playerbox,logdate,logdatebox \n",
    "    cname = cnamebox.value\n",
    "    player = playerbox.value\n",
    "    logdate = logdatebox.value\n",
    "    logSearch()\n",
    "def getFilterVal(b):\n",
    "    global col,logfil\n",
    "    col = logcol.value\n",
    "    logfil = logrow.value\n",
    "    logFilter()\n",
    "def getErrorTf(b):\n",
    "    global interval\n",
    "    interval = errorTf.value\n",
    "    out.clear_output()\n",
    "    disMerge()\n",
    "    plotError()\n",
    "    plotdis()"
   ]
  },
  {
   "cell_type": "code",
   "execution_count": 28,
   "metadata": {
    "scrolled": true
   },
   "outputs": [],
   "source": [
    "cname = ''\n",
    "player = ''\n",
    "\n",
    "cnamebox = ipw.Text(value='company-a',\n",
    "                    placeholder='company name',\n",
    "                    description='company:',\n",
    "                    disabled=False)\n",
    "playerbox = ipw.Text(value='01',\n",
    "                    placeholder='player name',\n",
    "                    description='player:',\n",
    "                    disabled=False)\n",
    "logdatebox = ipw.Text(value='01',\n",
    "                    placeholder='log name not required',\n",
    "                    description='log:')\n",
    "readButton = ipw.Button(\n",
    "    description='Submit',\n",
    "    disabled=False,\n",
    "    button_style='',\n",
    "    tooltip='Click me'\n",
    ")    \n",
    "readButton.on_click(getLogVal)"
   ]
  },
  {
   "cell_type": "code",
   "execution_count": 29,
   "metadata": {
    "scrolled": false
   },
   "outputs": [],
   "source": [
    "logcol = ipw.Dropdown(\n",
    "        options=[('Class', 'className'), ('Description', 'description'), ('Function', 'functionName'),\n",
    "                 ('Date/Time','logDateTime'),('Type','logType')],\n",
    "        value='functionName',\n",
    "        description='Column:',\n",
    "        disabled=False,\n",
    "    )\n",
    "logrow = ipw.Text(value='onStatusChanged',\n",
    "                    placeholder='row filter',\n",
    "                    description='Row:',\n",
    "                    disabled=False)\n",
    "filterButton = ipw.Button(\n",
    "    description='filter',\n",
    "    disabled=False,\n",
    "    button_style='',\n",
    "    tooltip='Click me'\n",
    ")    \n",
    "\n",
    "filterButton.on_click(getFilterVal)"
   ]
  },
  {
   "cell_type": "code",
   "execution_count": 30,
   "metadata": {},
   "outputs": [],
   "source": [
    "showDf = ipw.Button(\n",
    "    description = 'Show log',\n",
    "    disabled = False,\n",
    "    tooltip = 'Click me'\n",
    ")\n",
    "def showdf(b):\n",
    "    global df\n",
    "    out.clear_output()\n",
    "    if len(df)>0:\n",
    "        for x in range(len(df)):\n",
    "            with out:\n",
    "                print(df[x])\n",
    "    else:\n",
    "        with out:\n",
    "            print('No DataFrame to show!')\n",
    "showDf.on_click(showdf)"
   ]
  },
  {
   "cell_type": "code",
   "execution_count": 31,
   "metadata": {},
   "outputs": [],
   "source": [
    "plotDis = ipw.Button(\n",
    "    description = 'Plot disconnection',\n",
    "    disabled = False\n",
    ")\n",
    "\n",
    "def plotdis():\n",
    "    global tf\n",
    "    if len(tf)>0:\n",
    "        for x in range(len(tf)):\n",
    "            with out:\n",
    "                print(tf[x])\n",
    "    else:\n",
    "        with out:\n",
    "            print('No DataFrame to show!')\n",
    "    \n",
    "plotDis.on_click(getErrorTf)"
   ]
  },
  {
   "cell_type": "code",
   "execution_count": 32,
   "metadata": {},
   "outputs": [],
   "source": [
    "errorTf = ipw.Dropdown(\n",
    "    options = [('30 mins',30),('1 hr',60)],\n",
    "    value = 60,\n",
    "    description = 'Timeframe',\n",
    "    disable = False\n",
    "    )\n",
    "\n",
    "def plotErrorButton(b):\n",
    "    global df,out\n",
    "    out.clear_output()\n",
    "    "
   ]
  },
  {
   "cell_type": "code",
   "execution_count": 33,
   "metadata": {
    "scrolled": true
   },
   "outputs": [
    {
     "data": {
      "application/vnd.jupyter.widget-view+json": {
       "model_id": "edbace053292413cbdefb88106ac3024",
       "version_major": 2,
       "version_minor": 0
      },
      "text/plain": [
       "HBox(children=(VBox(children=(Text(value='company-a', description='company:', placeholder='company name'), Tex…"
      ]
     },
     "metadata": {},
     "output_type": "display_data"
    },
    {
     "data": {
      "application/vnd.jupyter.widget-view+json": {
       "model_id": "e7d508f344164231a7fe4728d68d60d0",
       "version_major": 2,
       "version_minor": 0
      },
      "text/plain": [
       "HBox(children=(Button(description='Show log', style=ButtonStyle(), tooltip='Click me'),))"
      ]
     },
     "metadata": {},
     "output_type": "display_data"
    },
    {
     "data": {
      "application/vnd.jupyter.widget-view+json": {
       "model_id": "c8488c27e1b4467887cac227b45e7688",
       "version_major": 2,
       "version_minor": 0
      },
      "text/plain": [
       "Output()"
      ]
     },
     "metadata": {},
     "output_type": "display_data"
    },
    {
     "data": {
      "application/vnd.jupyter.widget-view+json": {
       "model_id": "f69da9f1a9e44093b2bf7fb597025aca",
       "version_major": 2,
       "version_minor": 0
      },
      "text/plain": [
       "HBox(children=(Dropdown(description='Timeframe', index=1, options=(('30 mins', 30), ('1 hr', 60)), value=60),)…"
      ]
     },
     "metadata": {},
     "output_type": "display_data"
    },
    {
     "data": {
      "application/vnd.jupyter.widget-view+json": {
       "model_id": "0640019325f5497793788510295238a6",
       "version_major": 2,
       "version_minor": 0
      },
      "text/plain": [
       "HBox(children=(Button(description='Plot disconnection', style=ButtonStyle()),))"
      ]
     },
     "metadata": {},
     "output_type": "display_data"
    }
   ],
   "source": [
    "readSec = ipw.VBox([cnamebox,playerbox,logdatebox,readButton])\n",
    "filterSec = ipw.VBox([logcol,logrow,filterButton])\n",
    "sec1 = ipw.HBox([readSec,filterSec])\n",
    "sec2 = ipw.HBox([showDf])\n",
    "sec3 = ipw.HBox([errorTf])\n",
    "sec4 = ipw.HBox([plotDis])\n",
    "app = display(sec1,sec2,out,sec3,sec4)\n",
    "app"
   ]
  },
  {
   "cell_type": "code",
   "execution_count": 14,
   "metadata": {},
   "outputs": [
    {
     "data": {
      "text/plain": [
       "1"
      ]
     },
     "execution_count": 14,
     "metadata": {},
     "output_type": "execute_result"
    }
   ],
   "source": [
    "len(tf)"
   ]
  },
  {
   "cell_type": "code",
   "execution_count": 11,
   "metadata": {
    "scrolled": true
   },
   "outputs": [
    {
     "data": {
      "text/plain": [
       "60"
      ]
     },
     "execution_count": 11,
     "metadata": {},
     "output_type": "execute_result"
    }
   ],
   "source": [
    "errorTf.value"
   ]
  },
  {
   "cell_type": "code",
   "execution_count": 16,
   "metadata": {
    "scrolled": true
   },
   "outputs": [
    {
     "data": {
      "text/plain": [
       "60"
      ]
     },
     "execution_count": 16,
     "metadata": {},
     "output_type": "execute_result"
    }
   ],
   "source": [
    "interval"
   ]
  },
  {
   "cell_type": "code",
   "execution_count": 26,
   "metadata": {},
   "outputs": [
    {
     "data": {
      "text/plain": [
       "[[[[['2020', '06', '12', '', '00', '00', '01']]],\n",
       "  [],\n",
       "  [],\n",
       "  [],\n",
       "  [],\n",
       "  [],\n",
       "  [],\n",
       "  [],\n",
       "  [],\n",
       "  [],\n",
       "  [[['2020', '06', '12', '', '10', '01', '43']]],\n",
       "  [],\n",
       "  [],\n",
       "  [],\n",
       "  [],\n",
       "  [],\n",
       "  [],\n",
       "  [],\n",
       "  [],\n",
       "  [],\n",
       "  [[['2020', '06', '12', '', '20', '01', '48']]],\n",
       "  [],\n",
       "  [],\n",
       "  []]]"
      ]
     },
     "execution_count": 26,
     "metadata": {},
     "output_type": "execute_result"
    }
   ],
   "source": [
    "tf"
   ]
  },
  {
   "cell_type": "code",
   "execution_count": null,
   "metadata": {},
   "outputs": [],
   "source": []
  }
 ],
 "metadata": {
  "kernelspec": {
   "display_name": "Python 3",
   "language": "python",
   "name": "python3"
  },
  "language_info": {
   "codemirror_mode": {
    "name": "ipython",
    "version": 3
   },
   "file_extension": ".py",
   "mimetype": "text/x-python",
   "name": "python",
   "nbconvert_exporter": "python",
   "pygments_lexer": "ipython3",
   "version": "3.7.3"
  }
 },
 "nbformat": 4,
 "nbformat_minor": 4
}
